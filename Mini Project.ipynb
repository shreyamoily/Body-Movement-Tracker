{
 "cells": [
  {
   "cell_type": "code",
   "execution_count": 1,
   "id": "287e1fee",
   "metadata": {
    "scrolled": true
   },
   "outputs": [
    {
     "name": "stdout",
     "output_type": "stream",
     "text": [
      "Requirement already satisfied: tensorflow==2.8.1 in c:\\python\\python36\\lib\\site-packages (2.8.1)\n",
      "Requirement already satisfied: tensorflow-gpu==2.8.1 in c:\\python\\python36\\lib\\site-packages (2.8.1)\n",
      "Requirement already satisfied: tensorflow-hub in c:\\python\\python36\\lib\\site-packages (0.13.0)\n",
      "Requirement already satisfied: opencv-python in c:\\python\\python36\\lib\\site-packages (4.7.0.72)\n",
      "Requirement already satisfied: matplotlib in c:\\python\\python36\\lib\\site-packages (3.5.1)\n",
      "Requirement already satisfied: numpy>=1.20 in c:\\python\\python36\\lib\\site-packages (from tensorflow==2.8.1) (1.22.3)\n",
      "Requirement already satisfied: keras<2.9,>=2.8.0rc0 in c:\\python\\python36\\lib\\site-packages (from tensorflow==2.8.1) (2.8.0)\n",
      "Requirement already satisfied: protobuf>=3.9.2 in c:\\python\\python36\\lib\\site-packages (from tensorflow==2.8.1) (3.20.3)\n",
      "Requirement already satisfied: libclang>=9.0.1 in c:\\python\\python36\\lib\\site-packages (from tensorflow==2.8.1) (15.0.6.1)\n",
      "Requirement already satisfied: setuptools in c:\\python\\python36\\lib\\site-packages (from tensorflow==2.8.1) (58.1.0)\n",
      "Requirement already satisfied: six>=1.12.0 in c:\\python\\python36\\lib\\site-packages (from tensorflow==2.8.1) (1.16.0)\n",
      "Requirement already satisfied: typing-extensions>=3.6.6 in c:\\python\\python36\\lib\\site-packages (from tensorflow==2.8.1) (4.5.0)\n",
      "Requirement already satisfied: wrapt>=1.11.0 in c:\\python\\python36\\lib\\site-packages (from tensorflow==2.8.1) (1.15.0)\n",
      "Requirement already satisfied: tensorflow-io-gcs-filesystem>=0.23.1 in c:\\python\\python36\\lib\\site-packages (from tensorflow==2.8.1) (0.31.0)\n",
      "Requirement already satisfied: tensorflow-estimator<2.9,>=2.8 in c:\\python\\python36\\lib\\site-packages (from tensorflow==2.8.1) (2.8.0)\n",
      "Requirement already satisfied: absl-py>=0.4.0 in c:\\python\\python36\\lib\\site-packages (from tensorflow==2.8.1) (1.4.0)\n",
      "Requirement already satisfied: google-pasta>=0.1.1 in c:\\python\\python36\\lib\\site-packages (from tensorflow==2.8.1) (0.2.0)\n",
      "Requirement already satisfied: tensorboard<2.9,>=2.8 in c:\\python\\python36\\lib\\site-packages (from tensorflow==2.8.1) (2.8.0)\n",
      "Requirement already satisfied: keras-preprocessing>=1.1.1 in c:\\python\\python36\\lib\\site-packages (from tensorflow==2.8.1) (1.1.2)\n",
      "Requirement already satisfied: gast>=0.2.1 in c:\\python\\python36\\lib\\site-packages (from tensorflow==2.8.1) (0.5.3)\n",
      "Requirement already satisfied: h5py>=2.9.0 in c:\\python\\python36\\lib\\site-packages (from tensorflow==2.8.1) (3.8.0)\n",
      "Requirement already satisfied: grpcio<2.0,>=1.24.3 in c:\\python\\python36\\lib\\site-packages (from tensorflow==2.8.1) (1.51.3)\n",
      "Requirement already satisfied: astunparse>=1.6.0 in c:\\python\\python36\\lib\\site-packages (from tensorflow==2.8.1) (1.6.3)\n",
      "Requirement already satisfied: termcolor>=1.1.0 in c:\\python\\python36\\lib\\site-packages (from tensorflow==2.8.1) (2.2.0)\n",
      "Requirement already satisfied: opt-einsum>=2.3.2 in c:\\python\\python36\\lib\\site-packages (from tensorflow==2.8.1) (3.3.0)\n",
      "Requirement already satisfied: flatbuffers>=1.12 in c:\\python\\python36\\lib\\site-packages (from tensorflow==2.8.1) (23.3.3)\n",
      "Requirement already satisfied: packaging>=20.0 in c:\\python\\python36\\lib\\site-packages (from matplotlib) (21.3)\n",
      "Requirement already satisfied: cycler>=0.10 in c:\\python\\python36\\lib\\site-packages (from matplotlib) (0.11.0)\n",
      "Requirement already satisfied: pillow>=6.2.0 in c:\\python\\python36\\lib\\site-packages (from matplotlib) (9.1.0)\n",
      "Requirement already satisfied: kiwisolver>=1.0.1 in c:\\python\\python36\\lib\\site-packages (from matplotlib) (1.4.2)\n",
      "Requirement already satisfied: python-dateutil>=2.7 in c:\\python\\python36\\lib\\site-packages (from matplotlib) (2.8.2)\n",
      "Requirement already satisfied: pyparsing>=2.2.1 in c:\\python\\python36\\lib\\site-packages (from matplotlib) (3.0.8)\n",
      "Requirement already satisfied: fonttools>=4.22.0 in c:\\python\\python36\\lib\\site-packages (from matplotlib) (4.33.1)\n",
      "Requirement already satisfied: wheel<1.0,>=0.23.0 in c:\\python\\python36\\lib\\site-packages (from astunparse>=1.6.0->tensorflow==2.8.1) (0.40.0)\n",
      "Requirement already satisfied: requests<3,>=2.21.0 in c:\\python\\python36\\lib\\site-packages (from tensorboard<2.9,>=2.8->tensorflow==2.8.1) (2.28.2)\n",
      "Requirement already satisfied: google-auth<3,>=1.6.3 in c:\\python\\python36\\lib\\site-packages (from tensorboard<2.9,>=2.8->tensorflow==2.8.1) (2.16.2)\n",
      "Requirement already satisfied: tensorboard-plugin-wit>=1.6.0 in c:\\python\\python36\\lib\\site-packages (from tensorboard<2.9,>=2.8->tensorflow==2.8.1) (1.8.1)\n",
      "Requirement already satisfied: markdown>=2.6.8 in c:\\python\\python36\\lib\\site-packages (from tensorboard<2.9,>=2.8->tensorflow==2.8.1) (3.4.1)\n",
      "Requirement already satisfied: werkzeug>=0.11.15 in c:\\python\\python36\\lib\\site-packages (from tensorboard<2.9,>=2.8->tensorflow==2.8.1) (2.0.3)\n",
      "Requirement already satisfied: google-auth-oauthlib<0.5,>=0.4.1 in c:\\python\\python36\\lib\\site-packages (from tensorboard<2.9,>=2.8->tensorflow==2.8.1) (0.4.6)\n",
      "Requirement already satisfied: tensorboard-data-server<0.7.0,>=0.6.0 in c:\\python\\python36\\lib\\site-packages (from tensorboard<2.9,>=2.8->tensorflow==2.8.1) (0.6.1)\n",
      "Requirement already satisfied: rsa<5,>=3.1.4 in c:\\python\\python36\\lib\\site-packages (from google-auth<3,>=1.6.3->tensorboard<2.9,>=2.8->tensorflow==2.8.1) (4.9)\n",
      "Requirement already satisfied: cachetools<6.0,>=2.0.0 in c:\\python\\python36\\lib\\site-packages (from google-auth<3,>=1.6.3->tensorboard<2.9,>=2.8->tensorflow==2.8.1) (5.3.0)\n",
      "Requirement already satisfied: pyasn1-modules>=0.2.1 in c:\\python\\python36\\lib\\site-packages (from google-auth<3,>=1.6.3->tensorboard<2.9,>=2.8->tensorflow==2.8.1) (0.2.8)\n",
      "Requirement already satisfied: requests-oauthlib>=0.7.0 in c:\\python\\python36\\lib\\site-packages (from google-auth-oauthlib<0.5,>=0.4.1->tensorboard<2.9,>=2.8->tensorflow==2.8.1) (1.3.1)\n",
      "Requirement already satisfied: charset-normalizer<4,>=2 in c:\\python\\python36\\lib\\site-packages (from requests<3,>=2.21.0->tensorboard<2.9,>=2.8->tensorflow==2.8.1) (3.1.0)\n",
      "Requirement already satisfied: idna<4,>=2.5 in c:\\python\\python36\\lib\\site-packages (from requests<3,>=2.21.0->tensorboard<2.9,>=2.8->tensorflow==2.8.1) (3.4)\n",
      "Requirement already satisfied: certifi>=2017.4.17 in c:\\python\\python36\\lib\\site-packages (from requests<3,>=2.21.0->tensorboard<2.9,>=2.8->tensorflow==2.8.1) (2022.12.7)\n",
      "Requirement already satisfied: urllib3<1.27,>=1.21.1 in c:\\python\\python36\\lib\\site-packages (from requests<3,>=2.21.0->tensorboard<2.9,>=2.8->tensorflow==2.8.1) (1.26.15)\n",
      "Requirement already satisfied: pyasn1<0.5.0,>=0.4.6 in c:\\python\\python36\\lib\\site-packages (from pyasn1-modules>=0.2.1->google-auth<3,>=1.6.3->tensorboard<2.9,>=2.8->tensorflow==2.8.1) (0.4.8)\n",
      "Requirement already satisfied: oauthlib>=3.0.0 in c:\\python\\python36\\lib\\site-packages (from requests-oauthlib>=0.7.0->google-auth-oauthlib<0.5,>=0.4.1->tensorboard<2.9,>=2.8->tensorflow==2.8.1) (3.2.2)\n"
     ]
    },
    {
     "name": "stderr",
     "output_type": "stream",
     "text": [
      "WARNING: Ignoring invalid distribution -rotobuf (c:\\python\\python36\\lib\\site-packages)\n",
      "WARNING: Ignoring invalid distribution -rotobuf (c:\\python\\python36\\lib\\site-packages)\n",
      "WARNING: Ignoring invalid distribution -rotobuf (c:\\python\\python36\\lib\\site-packages)\n",
      "WARNING: Ignoring invalid distribution -rotobuf (c:\\python\\python36\\lib\\site-packages)\n",
      "WARNING: Ignoring invalid distribution -rotobuf (c:\\python\\python36\\lib\\site-packages)\n",
      "WARNING: Ignoring invalid distribution -rotobuf (c:\\python\\python36\\lib\\site-packages)\n"
     ]
    }
   ],
   "source": [
    "!pip install tensorflow==2.8.1 tensorflow-gpu==2.8.1 tensorflow-hub opencv-python matplotlib"
   ]
  },
  {
   "cell_type": "code",
   "execution_count": 2,
   "id": "2416a23e",
   "metadata": {},
   "outputs": [],
   "source": [
    "import tensorflow as tf\n",
    "import tensorflow_hub as hub\n",
    "import cv2\n",
    "from matplotlib import pyplot as plt\n",
    "import numpy as np"
   ]
  },
  {
   "cell_type": "code",
   "execution_count": 24,
   "id": "b5640176",
   "metadata": {
    "scrolled": false
   },
   "outputs": [
    {
     "name": "stdout",
     "output_type": "stream",
     "text": [
      "Requirement already satisfied: protobuf==3.20.* in c:\\python\\python36\\lib\\site-packages (3.20.3)\n",
      "Note: you may need to restart the kernel to use updated packages.\n"
     ]
    },
    {
     "name": "stderr",
     "output_type": "stream",
     "text": [
      "WARNING: Ignoring invalid distribution -rotobuf (c:\\python\\python36\\lib\\site-packages)\n",
      "WARNING: Ignoring invalid distribution -rotobuf (c:\\python\\python36\\lib\\site-packages)\n",
      "WARNING: Ignoring invalid distribution -rotobuf (c:\\python\\python36\\lib\\site-packages)\n",
      "WARNING: Ignoring invalid distribution -rotobuf (c:\\python\\python36\\lib\\site-packages)\n",
      "WARNING: Ignoring invalid distribution -rotobuf (c:\\python\\python36\\lib\\site-packages)\n",
      "WARNING: Ignoring invalid distribution -rotobuf (c:\\python\\python36\\lib\\site-packages)\n"
     ]
    }
   ],
   "source": [
    "pip install protobuf==3.20.*"
   ]
  },
  {
   "cell_type": "code",
   "execution_count": 3,
   "id": "f1465298",
   "metadata": {},
   "outputs": [],
   "source": [
    "# if a GPU is being used\n",
    "gpus = tf.config.experimental.list_physical_devices('GPU')\n",
    "for gpu in gpus:\n",
    "    tf.config.experimental.set_memory_growth(gpu, True)"
   ]
  },
  {
   "cell_type": "code",
   "execution_count": 4,
   "id": "3b0a69a6",
   "metadata": {},
   "outputs": [],
   "source": [
    "model = hub.load('https://tfhub.dev/google/movenet/multipose/lightning/1')\n",
    "movenet = model.signatures['serving_default']"
   ]
  },
  {
   "cell_type": "code",
   "execution_count": 5,
   "id": "e2201019",
   "metadata": {},
   "outputs": [
    {
     "data": {
      "text/plain": [
       "192.0"
      ]
     },
     "execution_count": 5,
     "metadata": {},
     "output_type": "execute_result"
    }
   ],
   "source": [
    "256*.75"
   ]
  },
  {
   "cell_type": "code",
   "execution_count": 13,
   "id": "07c7fb6b",
   "metadata": {},
   "outputs": [],
   "source": [
    "cap = cv2.VideoCapture(0)\n",
    "while cap.isOpened():\n",
    "    ret, frame = cap.read()\n",
    "    \n",
    "    # Resize image\n",
    "    img = frame.copy()\n",
    "    img = tf.image.resize_with_pad(tf.expand_dims(img, axis=0), 192,256)\n",
    "    input_img = tf.cast(img, dtype=tf.int32)\n",
    "    \n",
    "    # Detection section (of keypoints)\n",
    "    results = movenet(input_img)\n",
    "    keypoints_with_scores = results['output_0'].numpy()[:,:,:51].reshape((6,17,3))\n",
    "\n",
    "    \n",
    "    # Render keypoints \n",
    "    loop_through_people(frame, keypoints_with_scores, EDGES, 0.1)\n",
    "    \n",
    "    cv2.imshow('Movenet Multipose', frame)\n",
    "    \n",
    "    if cv2.waitKey(10) & 0xFF==ord('q'):\n",
    "        break\n",
    "        \n",
    "cap.release()\n",
    "cv2.destroyAllWindows()"
   ]
  },
  {
   "cell_type": "code",
   "execution_count": 13,
   "id": "dc2f3048",
   "metadata": {},
   "outputs": [
    {
     "data": {
      "text/plain": [
       "(6, 17, 3)"
      ]
     },
     "execution_count": 13,
     "metadata": {},
     "output_type": "execute_result"
    }
   ],
   "source": [
    "keypoints_with_scores.shape"
   ]
  },
  {
   "cell_type": "code",
   "execution_count": 7,
   "id": "0f5797fb",
   "metadata": {},
   "outputs": [],
   "source": [
    "# Function to loop through each person detected and render\n",
    "def loop_through_people(frame, keypoints_with_scores, edges, confidence_threshold):\n",
    "    for person in keypoints_with_scores:\n",
    "        draw_connections(frame, person, edges, confidence_threshold)\n",
    "        draw_keypoints(frame, person, confidence_threshold)"
   ]
  },
  {
   "cell_type": "markdown",
   "id": "a06e4733",
   "metadata": {},
   "source": [
    "# Draw Keypoints"
   ]
  },
  {
   "cell_type": "code",
   "execution_count": 8,
   "id": "c3f68782",
   "metadata": {},
   "outputs": [],
   "source": [
    "def draw_keypoints(frame, keypoints, confidence_threshold):\n",
    "    y, x, c = frame.shape\n",
    "    shaped = np.squeeze(np.multiply(keypoints, [y,x,1]))\n",
    "    \n",
    "    for kp in shaped:\n",
    "        ky, kx, kp_conf = kp\n",
    "        if kp_conf > confidence_threshold:\n",
    "            cv2.circle(frame, (int(kx), int(ky)), 4, (0,255,0), -1)"
   ]
  },
  {
   "cell_type": "markdown",
   "id": "ddc4ac5c",
   "metadata": {},
   "source": [
    "# Draw Edges"
   ]
  },
  {
   "cell_type": "code",
   "execution_count": 9,
   "id": "497b7423",
   "metadata": {},
   "outputs": [],
   "source": [
    "EDGES = {\n",
    "    (0, 1): 'm',\n",
    "    (0, 2): 'c',\n",
    "    (1, 3): 'm',\n",
    "    (2, 4): 'c',\n",
    "    (0, 5): 'm',\n",
    "    (0, 6): 'c',\n",
    "    (5, 7): 'm',\n",
    "    (7, 9): 'm',\n",
    "    (6, 8): 'c',\n",
    "    (8, 10): 'c',\n",
    "    (5, 6): 'y',\n",
    "    (5, 11): 'm',\n",
    "    (6, 12): 'c',\n",
    "    (11, 12): 'y',\n",
    "    (11, 13): 'm',\n",
    "    (13, 15): 'm',\n",
    "    (12, 14): 'c',\n",
    "    (14, 16): 'c'\n",
    "}"
   ]
  },
  {
   "cell_type": "code",
   "execution_count": 10,
   "id": "9b63aacd",
   "metadata": {},
   "outputs": [],
   "source": [
    "def draw_connections(frame, keypoints, edges, confidence_threshold):\n",
    "    y, x, c = frame.shape\n",
    "    shaped = np.squeeze(np.multiply(keypoints, [y,x,1]))\n",
    "    \n",
    "    for edge, color in edges.items():\n",
    "        p1, p2 = edge\n",
    "        y1, x1, c1 = shaped[p1]\n",
    "        y2, x2, c2 = shaped[p2]\n",
    "        \n",
    "        if (c1 > confidence_threshold) & (c2 > confidence_threshold):      \n",
    "            cv2.line(frame, (int(x1), int(y1)), (int(x2), int(y2)), (0,0,255), 4)"
   ]
  },
  {
   "cell_type": "code",
   "execution_count": null,
   "id": "cd469546",
   "metadata": {},
   "outputs": [],
   "source": []
  }
 ],
 "metadata": {
  "kernelspec": {
   "display_name": "Python 3",
   "language": "python",
   "name": "python3"
  },
  "language_info": {
   "codemirror_mode": {
    "name": "ipython",
    "version": 3
   },
   "file_extension": ".py",
   "mimetype": "text/x-python",
   "name": "python",
   "nbconvert_exporter": "python",
   "pygments_lexer": "ipython3",
   "version": "3.10.1"
  }
 },
 "nbformat": 4,
 "nbformat_minor": 5
}
