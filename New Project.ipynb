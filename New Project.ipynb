{
 "cells": [
  {
   "cell_type": "code",
   "execution_count": 1,
   "id": "0a7a38e5",
   "metadata": {},
   "outputs": [
    {
     "name": "stdout",
     "output_type": "stream",
     "text": [
      "Requirement already satisfied: tensorflow==2.8.1 in c:\\users\\anany\\anaconda3\\lib\\site-packages (2.8.1)\n",
      "Requirement already satisfied: tensorflow-gpu==2.8.1 in c:\\users\\anany\\anaconda3\\lib\\site-packages (2.8.1)\n",
      "Requirement already satisfied: tensorflow-hub in c:\\users\\anany\\anaconda3\\lib\\site-packages (0.13.0)\n",
      "Requirement already satisfied: opencv-python in c:\\users\\anany\\anaconda3\\lib\\site-packages (4.7.0.72)\n",
      "Requirement already satisfied: matplotlib in c:\\users\\anany\\anaconda3\\lib\\site-packages (3.4.3)\n",
      "Requirement already satisfied: h5py>=2.9.0 in c:\\users\\anany\\anaconda3\\lib\\site-packages (from tensorflow==2.8.1) (3.2.1)\n",
      "Requirement already satisfied: opt-einsum>=2.3.2 in c:\\users\\anany\\anaconda3\\lib\\site-packages (from tensorflow==2.8.1) (3.3.0)\n",
      "Requirement already satisfied: protobuf>=3.9.2 in c:\\users\\anany\\anaconda3\\lib\\site-packages (from tensorflow==2.8.1) (3.20.3)\n",
      "Requirement already satisfied: astunparse>=1.6.0 in c:\\users\\anany\\anaconda3\\lib\\site-packages (from tensorflow==2.8.1) (1.6.3)\n",
      "Requirement already satisfied: keras<2.9,>=2.8.0rc0 in c:\\users\\anany\\anaconda3\\lib\\site-packages (from tensorflow==2.8.1) (2.8.0)\n",
      "Requirement already satisfied: six>=1.12.0 in c:\\users\\anany\\anaconda3\\lib\\site-packages (from tensorflow==2.8.1) (1.16.0)\n",
      "Requirement already satisfied: absl-py>=0.4.0 in c:\\users\\anany\\anaconda3\\lib\\site-packages (from tensorflow==2.8.1) (1.4.0)\n",
      "Requirement already satisfied: grpcio<2.0,>=1.24.3 in c:\\users\\anany\\anaconda3\\lib\\site-packages (from tensorflow==2.8.1) (1.51.3)\n",
      "Requirement already satisfied: keras-preprocessing>=1.1.1 in c:\\users\\anany\\anaconda3\\lib\\site-packages (from tensorflow==2.8.1) (1.1.2)\n",
      "Requirement already satisfied: gast>=0.2.1 in c:\\users\\anany\\anaconda3\\lib\\site-packages (from tensorflow==2.8.1) (0.5.3)\n",
      "Requirement already satisfied: termcolor>=1.1.0 in c:\\users\\anany\\anaconda3\\lib\\site-packages (from tensorflow==2.8.1) (2.2.0)\n",
      "Requirement already satisfied: wrapt>=1.11.0 in c:\\users\\anany\\anaconda3\\lib\\site-packages (from tensorflow==2.8.1) (1.12.1)\n",
      "Requirement already satisfied: tensorflow-estimator<2.9,>=2.8 in c:\\users\\anany\\anaconda3\\lib\\site-packages (from tensorflow==2.8.1) (2.8.0)\n",
      "Requirement already satisfied: setuptools in c:\\users\\anany\\anaconda3\\lib\\site-packages (from tensorflow==2.8.1) (58.0.4)\n",
      "Requirement already satisfied: google-pasta>=0.1.1 in c:\\users\\anany\\anaconda3\\lib\\site-packages (from tensorflow==2.8.1) (0.2.0)\n",
      "Requirement already satisfied: tensorflow-io-gcs-filesystem>=0.23.1 in c:\\users\\anany\\anaconda3\\lib\\site-packages (from tensorflow==2.8.1) (0.31.0)\n",
      "Requirement already satisfied: libclang>=9.0.1 in c:\\users\\anany\\anaconda3\\lib\\site-packages (from tensorflow==2.8.1) (15.0.6.1)\n",
      "Requirement already satisfied: typing-extensions>=3.6.6 in c:\\users\\anany\\anaconda3\\lib\\site-packages (from tensorflow==2.8.1) (3.10.0.2)\n",
      "Requirement already satisfied: tensorboard<2.9,>=2.8 in c:\\users\\anany\\anaconda3\\lib\\site-packages (from tensorflow==2.8.1) (2.8.0)\n",
      "Requirement already satisfied: flatbuffers>=1.12 in c:\\users\\anany\\anaconda3\\lib\\site-packages (from tensorflow==2.8.1) (23.3.3)\n",
      "Requirement already satisfied: numpy>=1.20 in c:\\users\\anany\\anaconda3\\lib\\site-packages (from tensorflow==2.8.1) (1.20.3)\n",
      "Requirement already satisfied: python-dateutil>=2.7 in c:\\users\\anany\\anaconda3\\lib\\site-packages (from matplotlib) (2.8.2)\n",
      "Requirement already satisfied: kiwisolver>=1.0.1 in c:\\users\\anany\\anaconda3\\lib\\site-packages (from matplotlib) (1.3.1)\n",
      "Requirement already satisfied: cycler>=0.10 in c:\\users\\anany\\anaconda3\\lib\\site-packages (from matplotlib) (0.10.0)\n",
      "Requirement already satisfied: pyparsing>=2.2.1 in c:\\users\\anany\\anaconda3\\lib\\site-packages (from matplotlib) (3.0.4)\n",
      "Requirement already satisfied: pillow>=6.2.0 in c:\\users\\anany\\anaconda3\\lib\\site-packages (from matplotlib) (8.4.0)\n",
      "Requirement already satisfied: wheel<1.0,>=0.23.0 in c:\\users\\anany\\anaconda3\\lib\\site-packages (from astunparse>=1.6.0->tensorflow==2.8.1) (0.37.0)\n",
      "Requirement already satisfied: tensorboard-data-server<0.7.0,>=0.6.0 in c:\\users\\anany\\anaconda3\\lib\\site-packages (from tensorboard<2.9,>=2.8->tensorflow==2.8.1) (0.6.1)\n",
      "Requirement already satisfied: requests<3,>=2.21.0 in c:\\users\\anany\\anaconda3\\lib\\site-packages (from tensorboard<2.9,>=2.8->tensorflow==2.8.1) (2.26.0)\n",
      "Requirement already satisfied: werkzeug>=0.11.15 in c:\\users\\anany\\anaconda3\\lib\\site-packages (from tensorboard<2.9,>=2.8->tensorflow==2.8.1) (2.0.2)\n",
      "Requirement already satisfied: google-auth-oauthlib<0.5,>=0.4.1 in c:\\users\\anany\\anaconda3\\lib\\site-packages (from tensorboard<2.9,>=2.8->tensorflow==2.8.1) (0.4.6)\n",
      "Requirement already satisfied: tensorboard-plugin-wit>=1.6.0 in c:\\users\\anany\\anaconda3\\lib\\site-packages (from tensorboard<2.9,>=2.8->tensorflow==2.8.1) (1.8.1)\n",
      "Requirement already satisfied: markdown>=2.6.8 in c:\\users\\anany\\anaconda3\\lib\\site-packages (from tensorboard<2.9,>=2.8->tensorflow==2.8.1) (3.4.2)\n",
      "Requirement already satisfied: google-auth<3,>=1.6.3 in c:\\users\\anany\\anaconda3\\lib\\site-packages (from tensorboard<2.9,>=2.8->tensorflow==2.8.1) (2.16.2)\n",
      "Requirement already satisfied: rsa<5,>=3.1.4 in c:\\users\\anany\\anaconda3\\lib\\site-packages (from google-auth<3,>=1.6.3->tensorboard<2.9,>=2.8->tensorflow==2.8.1) (4.9)\n",
      "Requirement already satisfied: cachetools<6.0,>=2.0.0 in c:\\users\\anany\\anaconda3\\lib\\site-packages (from google-auth<3,>=1.6.3->tensorboard<2.9,>=2.8->tensorflow==2.8.1) (5.3.0)\n",
      "Requirement already satisfied: pyasn1-modules>=0.2.1 in c:\\users\\anany\\anaconda3\\lib\\site-packages (from google-auth<3,>=1.6.3->tensorboard<2.9,>=2.8->tensorflow==2.8.1) (0.2.8)\n",
      "Requirement already satisfied: requests-oauthlib>=0.7.0 in c:\\users\\anany\\anaconda3\\lib\\site-packages (from google-auth-oauthlib<0.5,>=0.4.1->tensorboard<2.9,>=2.8->tensorflow==2.8.1) (1.3.1)\n",
      "Requirement already satisfied: importlib-metadata>=4.4 in c:\\users\\anany\\anaconda3\\lib\\site-packages (from markdown>=2.6.8->tensorboard<2.9,>=2.8->tensorflow==2.8.1) (4.8.1)\n",
      "Requirement already satisfied: zipp>=0.5 in c:\\users\\anany\\anaconda3\\lib\\site-packages (from importlib-metadata>=4.4->markdown>=2.6.8->tensorboard<2.9,>=2.8->tensorflow==2.8.1) (3.6.0)\n",
      "Requirement already satisfied: pyasn1<0.5.0,>=0.4.6 in c:\\users\\anany\\anaconda3\\lib\\site-packages (from pyasn1-modules>=0.2.1->google-auth<3,>=1.6.3->tensorboard<2.9,>=2.8->tensorflow==2.8.1) (0.4.8)\n",
      "Requirement already satisfied: charset-normalizer~=2.0.0 in c:\\users\\anany\\anaconda3\\lib\\site-packages (from requests<3,>=2.21.0->tensorboard<2.9,>=2.8->tensorflow==2.8.1) (2.0.4)\n",
      "Requirement already satisfied: idna<4,>=2.5 in c:\\users\\anany\\anaconda3\\lib\\site-packages (from requests<3,>=2.21.0->tensorboard<2.9,>=2.8->tensorflow==2.8.1) (3.2)\n",
      "Requirement already satisfied: urllib3<1.27,>=1.21.1 in c:\\users\\anany\\anaconda3\\lib\\site-packages (from requests<3,>=2.21.0->tensorboard<2.9,>=2.8->tensorflow==2.8.1) (1.26.7)\n",
      "Requirement already satisfied: certifi>=2017.4.17 in c:\\users\\anany\\anaconda3\\lib\\site-packages (from requests<3,>=2.21.0->tensorboard<2.9,>=2.8->tensorflow==2.8.1) (2021.10.8)\n",
      "Requirement already satisfied: oauthlib>=3.0.0 in c:\\users\\anany\\anaconda3\\lib\\site-packages (from requests-oauthlib>=0.7.0->google-auth-oauthlib<0.5,>=0.4.1->tensorboard<2.9,>=2.8->tensorflow==2.8.1) (3.2.2)\n"
     ]
    },
    {
     "name": "stderr",
     "output_type": "stream",
     "text": [
      "WARNING: Ignoring invalid distribution -rotobuf (c:\\users\\anany\\anaconda3\\lib\\site-packages)\n",
      "WARNING: Ignoring invalid distribution -rotobuf (c:\\users\\anany\\anaconda3\\lib\\site-packages)\n",
      "WARNING: Ignoring invalid distribution -rotobuf (c:\\users\\anany\\anaconda3\\lib\\site-packages)\n",
      "WARNING: Ignoring invalid distribution -rotobuf (c:\\users\\anany\\anaconda3\\lib\\site-packages)\n",
      "WARNING: Ignoring invalid distribution -rotobuf (c:\\users\\anany\\anaconda3\\lib\\site-packages)\n",
      "WARNING: Ignoring invalid distribution -rotobuf (c:\\users\\anany\\anaconda3\\lib\\site-packages)\n"
     ]
    }
   ],
   "source": [
    "!pip install tensorflow==2.8.1 tensorflow-gpu==2.8.1 tensorflow-hub opencv-python matplotlib"
   ]
  },
  {
   "cell_type": "code",
   "execution_count": 2,
   "id": "9984b2c7",
   "metadata": {},
   "outputs": [],
   "source": [
    "import tensorflow as tf\n",
    "import tensorflow_hub as hub\n",
    "import cv2\n",
    "from matplotlib import pyplot as plt\n",
    "import numpy as np"
   ]
  },
  {
   "cell_type": "code",
   "execution_count": 3,
   "id": "a4dba814",
   "metadata": {},
   "outputs": [
    {
     "name": "stdout",
     "output_type": "stream",
     "text": [
      "Requirement already satisfied: protobuf==3.20.* in c:\\users\\anany\\anaconda3\\lib\\site-packages (3.20.3)\n",
      "Note: you may need to restart the kernel to use updated packages.\n"
     ]
    },
    {
     "name": "stderr",
     "output_type": "stream",
     "text": [
      "WARNING: Ignoring invalid distribution -rotobuf (c:\\users\\anany\\anaconda3\\lib\\site-packages)\n",
      "WARNING: Ignoring invalid distribution -rotobuf (c:\\users\\anany\\anaconda3\\lib\\site-packages)\n",
      "WARNING: Ignoring invalid distribution -rotobuf (c:\\users\\anany\\anaconda3\\lib\\site-packages)\n",
      "WARNING: Ignoring invalid distribution -rotobuf (c:\\users\\anany\\anaconda3\\lib\\site-packages)\n",
      "WARNING: Ignoring invalid distribution -rotobuf (c:\\users\\anany\\anaconda3\\lib\\site-packages)\n",
      "WARNING: Ignoring invalid distribution -rotobuf (c:\\users\\anany\\anaconda3\\lib\\site-packages)\n"
     ]
    }
   ],
   "source": [
    "pip install protobuf==3.20.*"
   ]
  },
  {
   "cell_type": "code",
   "execution_count": 4,
   "id": "9b498f73",
   "metadata": {},
   "outputs": [],
   "source": [
    "# if a GPU is being used\n",
    "gpus = tf.config.experimental.list_physical_devices('GPU')\n",
    "for gpu in gpus:\n",
    "    tf.config.experimental.set_memory_growth(gpu, True)"
   ]
  },
  {
   "cell_type": "code",
   "execution_count": 8,
   "id": "9be8e8b7",
   "metadata": {
    "scrolled": true
   },
   "outputs": [],
   "source": [
    "model = hub.load('https://tfhub.dev/google/movenet/multipose/lightning/1')\n",
    "movenet = model.signatures['serving_default']"
   ]
  },
  {
   "cell_type": "code",
   "execution_count": 9,
   "id": "b9f91e6d",
   "metadata": {},
   "outputs": [
    {
     "data": {
      "text/plain": [
       "192.0"
      ]
     },
     "execution_count": 9,
     "metadata": {},
     "output_type": "execute_result"
    }
   ],
   "source": [
    "256*.75"
   ]
  },
  {
   "cell_type": "code",
   "execution_count": 18,
   "id": "1f51c89d",
   "metadata": {},
   "outputs": [],
   "source": [
    "cap = cv2.VideoCapture(0)\n",
    "while cap.isOpened():\n",
    "    ret, frame = cap.read()\n",
    "    \n",
    "    # Resize image\n",
    "    img = frame.copy()\n",
    "    img = tf.image.resize_with_pad(tf.expand_dims(img, axis=0), 192,256)\n",
    "    input_img = tf.cast(img, dtype=tf.int32)\n",
    "    \n",
    "    # Detection section (of keypoints)\n",
    "    results = movenet(input_img)\n",
    "    keypoints_with_scores = results['output_0'].numpy()[:,:,:51].reshape((6,17,3))\n",
    "\n",
    "    \n",
    "    # Render keypoints \n",
    "    loop_through_people(frame, keypoints_with_scores, EDGES, 0.3)\n",
    "    \n",
    "    cv2.imshow('Movenet Multipose', frame)\n",
    "    \n",
    "    if cv2.waitKey(10) & 0xFF==ord('q'):\n",
    "        break\n",
    "        \n",
    "cap.release()\n",
    "cv2.destroyAllWindows()"
   ]
  },
  {
   "cell_type": "code",
   "execution_count": 11,
   "id": "b13b1d86",
   "metadata": {},
   "outputs": [
    {
     "data": {
      "text/plain": [
       "(480, 640, 3)"
      ]
     },
     "execution_count": 11,
     "metadata": {},
     "output_type": "execute_result"
    }
   ],
   "source": [
    "frame.shape"
   ]
  },
  {
   "cell_type": "code",
   "execution_count": 12,
   "id": "bad91f77",
   "metadata": {},
   "outputs": [],
   "source": [
    "cap.release()\n",
    "cv2.destroyAllWindows()"
   ]
  },
  {
   "cell_type": "code",
   "execution_count": 13,
   "id": "7b0cec60",
   "metadata": {},
   "outputs": [
    {
     "data": {
      "text/plain": [
       "array([[[1.49755612e-01, 6.76890433e-01, 1.19283475e-01],\n",
       "        [1.32329673e-01, 6.82676435e-01, 1.46953017e-01],\n",
       "        [1.34862155e-01, 6.77708566e-01, 1.64429769e-01],\n",
       "        [1.35009393e-01, 7.17829406e-01, 1.20958745e-01],\n",
       "        [1.38559952e-01, 7.02708125e-01, 1.24155976e-01],\n",
       "        [1.96711689e-01, 7.47380733e-01, 7.35130757e-02],\n",
       "        [1.97318017e-01, 7.22569048e-01, 1.20765895e-01],\n",
       "        [2.59481430e-01, 7.49312103e-01, 3.32527570e-02],\n",
       "        [2.58124143e-01, 6.99302852e-01, 7.52483159e-02],\n",
       "        [2.91500151e-01, 7.05196619e-01, 3.94176841e-02],\n",
       "        [2.93348819e-01, 6.86605573e-01, 6.94786832e-02],\n",
       "        [3.50484967e-01, 7.64394939e-01, 5.40227368e-02],\n",
       "        [3.35594028e-01, 7.18117952e-01, 6.21687956e-02],\n",
       "        [3.73149842e-01, 7.57774293e-01, 4.32561189e-02],\n",
       "        [3.49406689e-01, 7.00738132e-01, 3.67677100e-02],\n",
       "        [3.58572483e-01, 7.29993641e-01, 2.16550604e-02],\n",
       "        [3.50135267e-01, 6.99815869e-01, 2.58685406e-02]],\n",
       "\n",
       "       [[8.19239736e-01, 7.17401922e-01, 5.58185160e-01],\n",
       "        [7.31260478e-01, 8.04068267e-01, 7.88307860e-02],\n",
       "        [6.87307060e-01, 6.55406535e-01, 2.62386560e-01],\n",
       "        [8.34768891e-01, 8.56533349e-01, 1.16673773e-02],\n",
       "        [7.37275004e-01, 5.55460632e-01, 2.31174290e-01],\n",
       "        [9.68016386e-01, 8.56614769e-01, 5.38905822e-02],\n",
       "        [9.37391222e-01, 4.72368240e-01, 1.48172632e-01],\n",
       "        [9.39789414e-01, 8.73980939e-01, 1.67366546e-02],\n",
       "        [9.49381828e-01, 3.72328699e-01, 7.99757708e-03],\n",
       "        [9.53092992e-01, 8.49809289e-01, 2.73609534e-02],\n",
       "        [9.41629648e-01, 5.00247657e-01, 3.48831080e-02],\n",
       "        [9.77230489e-01, 6.31045222e-01, 4.88626352e-03],\n",
       "        [9.70649004e-01, 4.44347858e-01, 1.65397078e-02],\n",
       "        [7.25998044e-01, 8.11235428e-01, 1.63508374e-02],\n",
       "        [7.42389381e-01, 6.01577163e-01, 4.26191874e-02],\n",
       "        [3.27741325e-01, 6.94553494e-01, 5.22987125e-03],\n",
       "        [4.22711134e-01, 5.25660932e-01, 1.81934156e-03]],\n",
       "\n",
       "       [[4.57779706e-01, 1.31644294e-01, 2.40781419e-02],\n",
       "        [4.25694287e-01, 1.31925225e-01, 3.40326279e-02],\n",
       "        [4.28016841e-01, 1.38234541e-01, 2.72686668e-02],\n",
       "        [4.29360121e-01, 1.52893335e-01, 4.31664661e-02],\n",
       "        [4.29552674e-01, 1.38535976e-01, 3.12478747e-02],\n",
       "        [4.97037262e-01, 1.38841614e-01, 2.63948366e-02],\n",
       "        [4.92525756e-01, 1.27370939e-01, 2.67930422e-02],\n",
       "        [5.95897853e-01, 1.41328275e-01, 1.28240194e-02],\n",
       "        [5.78603029e-01, 1.24665722e-01, 2.35597882e-02],\n",
       "        [5.80634594e-01, 1.36912197e-01, 1.03576509e-02],\n",
       "        [5.78184307e-01, 1.37321770e-01, 1.73970535e-02],\n",
       "        [6.87022150e-01, 1.36923507e-01, 2.10323315e-02],\n",
       "        [6.86232507e-01, 1.33186042e-01, 2.65887156e-02],\n",
       "        [7.51269221e-01, 1.28666505e-01, 1.11336038e-02],\n",
       "        [7.49060631e-01, 1.31803945e-01, 1.86064746e-02],\n",
       "        [8.14699769e-01, 1.46361396e-01, 1.21286586e-02],\n",
       "        [8.14047217e-01, 1.20341375e-01, 8.65687151e-03]],\n",
       "\n",
       "       [[7.66770363e-01, 1.72388703e-01, 6.81652920e-03],\n",
       "        [7.65595794e-01, 1.70483440e-01, 3.66186607e-03],\n",
       "        [7.64713168e-01, 1.74943641e-01, 4.19124076e-03],\n",
       "        [7.77638078e-01, 1.67821378e-01, 2.69781752e-03],\n",
       "        [7.73176670e-01, 1.80519044e-01, 4.75491164e-03],\n",
       "        [7.89777517e-01, 1.64299890e-01, 5.08172112e-03],\n",
       "        [7.75517881e-01, 1.80802539e-01, 1.40456781e-02],\n",
       "        [8.01165521e-01, 1.57832220e-01, 5.53662749e-03],\n",
       "        [7.76378155e-01, 1.36381522e-01, 1.41329905e-02],\n",
       "        [8.07772040e-01, 1.48259789e-01, 5.86630777e-03],\n",
       "        [8.04665744e-01, 1.51540115e-01, 1.14615867e-02],\n",
       "        [8.77158105e-01, 1.58370659e-01, 1.94281270e-03],\n",
       "        [8.71243656e-01, 1.64450243e-01, 4.21615643e-03],\n",
       "        [8.95421624e-01, 1.61758751e-01, 2.34692171e-03],\n",
       "        [8.66203010e-01, 1.33413136e-01, 4.31865966e-03],\n",
       "        [8.92772913e-01, 1.56890765e-01, 1.95311045e-03],\n",
       "        [8.88108373e-01, 1.42868713e-01, 5.36088459e-03]],\n",
       "\n",
       "       [[4.92730469e-01, 3.18326920e-01, 1.61623694e-02],\n",
       "        [4.86729711e-01, 3.14667195e-01, 1.50500042e-02],\n",
       "        [4.88927603e-01, 3.17632288e-01, 1.20488703e-02],\n",
       "        [4.87674832e-01, 3.41560960e-01, 8.18966795e-03],\n",
       "        [4.88765597e-01, 3.20009053e-01, 1.42131764e-02],\n",
       "        [5.17843246e-01, 3.34243864e-01, 1.30607011e-02],\n",
       "        [5.37424147e-01, 3.53493094e-01, 2.78523155e-02],\n",
       "        [5.95796525e-01, 3.47977489e-01, 1.13518089e-02],\n",
       "        [6.15014553e-01, 3.23654652e-01, 1.52609814e-02],\n",
       "        [6.31460667e-01, 3.20031852e-01, 1.24055576e-02],\n",
       "        [6.52196765e-01, 3.38042587e-01, 1.87801309e-02],\n",
       "        [7.01759458e-01, 3.46536517e-01, 5.49895037e-03],\n",
       "        [7.05984712e-01, 3.51987422e-01, 7.86744244e-03],\n",
       "        [6.92628384e-01, 3.45512360e-01, 4.44153743e-03],\n",
       "        [6.92499042e-01, 3.46255153e-01, 5.89359039e-03],\n",
       "        [6.79043293e-01, 3.53547037e-01, 2.71407259e-03],\n",
       "        [6.75503254e-01, 3.43409359e-01, 6.93093287e-03]],\n",
       "\n",
       "       [[8.19239736e-01, 7.17401922e-01, 5.58185160e-01],\n",
       "        [7.52687156e-01, 7.88239598e-01, 2.10073832e-02],\n",
       "        [7.07419813e-01, 6.62069380e-01, 3.76682356e-02],\n",
       "        [8.50842416e-01, 8.65319133e-01, 1.36190234e-02],\n",
       "        [7.58871257e-01, 5.69700241e-01, 5.87535463e-02],\n",
       "        [9.68016386e-01, 8.56614769e-01, 5.38905822e-02],\n",
       "        [9.41242397e-01, 4.89554197e-01, 7.78298527e-02],\n",
       "        [9.39789414e-01, 8.73980939e-01, 1.67366546e-02],\n",
       "        [9.57095802e-01, 4.51403677e-01, 2.03271750e-02],\n",
       "        [9.22217131e-01, 7.93111980e-01, 2.20126156e-02],\n",
       "        [8.74374807e-01, 5.36893308e-01, 4.59525585e-02],\n",
       "        [9.79452074e-01, 6.46344841e-01, 4.32396354e-03],\n",
       "        [9.46132541e-01, 4.78490919e-01, 9.48164146e-03],\n",
       "        [9.43542123e-01, 6.66402102e-01, 2.90842672e-05],\n",
       "        [9.61063147e-01, 5.02991199e-01, 1.90414407e-03],\n",
       "        [9.35576618e-01, 6.27729714e-01, 1.51846546e-03],\n",
       "        [9.53237236e-01, 5.01635909e-01, 1.17870048e-02]]], dtype=float32)"
      ]
     },
     "execution_count": 13,
     "metadata": {},
     "output_type": "execute_result"
    }
   ],
   "source": [
    "keypoints_with_scores"
   ]
  },
  {
   "cell_type": "code",
   "execution_count": null,
   "id": "dce5a655",
   "metadata": {},
   "outputs": [],
   "source": [
    "Loop Through People"
   ]
  },
  {
   "cell_type": "code",
   "execution_count": 14,
   "id": "13d33bc1",
   "metadata": {},
   "outputs": [],
   "source": [
    "# Function to loop through each person detected and render\n",
    "def loop_through_people(frame, keypoints_with_scores, edges, confidence_threshold):\n",
    "    for person in keypoints_with_scores:\n",
    "        draw_connections(frame, person, edges, confidence_threshold)\n",
    "        draw_keypoints(frame, person, confidence_threshold)"
   ]
  },
  {
   "cell_type": "markdown",
   "id": "5453d826",
   "metadata": {},
   "source": [
    "# Draw Keypoints\n"
   ]
  },
  {
   "cell_type": "code",
   "execution_count": 15,
   "id": "1e0e6d7c",
   "metadata": {},
   "outputs": [],
   "source": [
    "def draw_keypoints(frame, keypoints, confidence_threshold):\n",
    "    y, x, c = frame.shape\n",
    "    shaped = np.squeeze(np.multiply(keypoints, [y,x,1]))\n",
    "    \n",
    "    for kp in shaped:\n",
    "        ky, kx, kp_conf = kp\n",
    "        if kp_conf > confidence_threshold:\n",
    "            cv2.circle(frame, (int(kx), int(ky)), 4, (0,255,0), -1)"
   ]
  },
  {
   "cell_type": "markdown",
   "id": "c323fedf",
   "metadata": {},
   "source": [
    "# Draw Edges"
   ]
  },
  {
   "cell_type": "code",
   "execution_count": 16,
   "id": "f581ee64",
   "metadata": {},
   "outputs": [],
   "source": [
    "EDGES = {\n",
    "    (0, 1): 'm',\n",
    "    (0, 2): 'c',\n",
    "    (1, 3): 'm',\n",
    "    (2, 4): 'c',\n",
    "    (0, 5): 'm',\n",
    "    (0, 6): 'c',\n",
    "    (5, 7): 'm',\n",
    "    (7, 9): 'm',\n",
    "    (6, 8): 'c',\n",
    "    (8, 10): 'c',\n",
    "    (5, 6): 'y',\n",
    "    (5, 11): 'm',\n",
    "    (6, 12): 'c',\n",
    "    (11, 12): 'y',\n",
    "    (11, 13): 'm',\n",
    "    (13, 15): 'm',\n",
    "    (12, 14): 'c',\n",
    "    (14, 16): 'c'\n",
    "}"
   ]
  },
  {
   "cell_type": "code",
   "execution_count": 17,
   "id": "96728736",
   "metadata": {},
   "outputs": [],
   "source": [
    "def draw_connections(frame, keypoints, edges, confidence_threshold):\n",
    "    y, x, c = frame.shape\n",
    "    shaped = np.squeeze(np.multiply(keypoints, [y,x,1]))\n",
    "    \n",
    "    for edge, color in edges.items():\n",
    "        p1, p2 = edge\n",
    "        y1, x1, c1 = shaped[p1]\n",
    "        y2, x2, c2 = shaped[p2]\n",
    "        \n",
    "        if (c1 > confidence_threshold) & (c2 > confidence_threshold):      \n",
    "            cv2.line(frame, (int(x1), int(y1)), (int(x2), int(y2)), (0,0,255), 4)"
   ]
  },
  {
   "cell_type": "code",
   "execution_count": null,
   "id": "f3249047",
   "metadata": {},
   "outputs": [],
   "source": []
  },
  {
   "cell_type": "code",
   "execution_count": null,
   "id": "ca265b9a",
   "metadata": {},
   "outputs": [],
   "source": []
  }
 ],
 "metadata": {
  "kernelspec": {
   "display_name": "Python 3 (ipykernel)",
   "language": "python",
   "name": "python3"
  },
  "language_info": {
   "codemirror_mode": {
    "name": "ipython",
    "version": 3
   },
   "file_extension": ".py",
   "mimetype": "text/x-python",
   "name": "python",
   "nbconvert_exporter": "python",
   "pygments_lexer": "ipython3",
   "version": "3.9.7"
  }
 },
 "nbformat": 4,
 "nbformat_minor": 5
}
